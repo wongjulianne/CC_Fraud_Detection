{
  "nbformat": 4,
  "nbformat_minor": 0,
  "metadata": {
    "colab": {
      "provenance": [],
      "authorship_tag": "ABX9TyMSt4TlM2sCHKgkXejG3D/8",
      "include_colab_link": true
    },
    "kernelspec": {
      "name": "python3",
      "display_name": "Python 3"
    },
    "language_info": {
      "name": "python"
    }
  },
  "cells": [
    {
      "cell_type": "markdown",
      "metadata": {
        "id": "view-in-github",
        "colab_type": "text"
      },
      "source": [
        "<a href=\"https://colab.research.google.com/github/wongjulianne/CC_Fraud_Detection/blob/main/CC_Fraud_Detection.ipynb\" target=\"_parent\"><img src=\"https://colab.research.google.com/assets/colab-badge.svg\" alt=\"Open In Colab\"/></a>"
      ]
    },
    {
      "cell_type": "markdown",
      "source": [
        "# Initializing"
      ],
      "metadata": {
        "id": "vGlOJlX9S_cq"
      }
    },
    {
      "cell_type": "code",
      "execution_count": 1,
      "metadata": {
        "colab": {
          "base_uri": "https://localhost:8080/"
        },
        "id": "GWfNVE540EdY",
        "outputId": "3e8ef5d0-b11d-4e69-e327-969069d8e61d"
      },
      "outputs": [
        {
          "output_type": "stream",
          "name": "stdout",
          "text": [
            "mkdir: cannot create directory ‘/root/.kaggle’: File exists\n",
            "credit-card-fraud.zip: Skipping, found more recently modified local copy (use --force to force download)\n",
            "Archive:  credit-card-fraud.zip\n",
            "replace card_transdata.csv? [y]es, [n]o, [A]ll, [N]one, [r]ename: y\n",
            "  inflating: card_transdata.csv      \n"
          ]
        }
      ],
      "source": [
        "!mkdir ~/.kaggle\n",
        "!cp kaggle.json ~/.kaggle\n",
        "!chmod 600 ~/.kaggle/kaggle.json\n",
        "!kaggle datasets download -d dhanushnarayananr/credit-card-fraud\n",
        "!unzip credit-card-fraud.zip"
      ]
    },
    {
      "cell_type": "code",
      "source": [
        "from sklearn.metrics import classification_report\n",
        "from sklearn.preprocessing import RobustScaler\n",
        "from sklearn.linear_model import LogisticRegression\n",
        "from sklearn import model_selection\n",
        "from sklearn.ensemble import RandomForestClassifier\n",
        "from sklearn.ensemble import GradientBoostingClassifier\n",
        "from sklearn.svm import LinearSVC\n",
        "\n",
        "from tensorflow.keras.models import Sequential\n",
        "from tensorflow.keras.layers import InputLayer, Dense, BatchNormalization\n",
        "from tensorflow.keras.callbacks import ModelCheckpoint"
      ],
      "metadata": {
        "id": "Va79iWB5126g"
      },
      "execution_count": 2,
      "outputs": []
    },
    {
      "cell_type": "code",
      "source": [
        "import pandas as pd\n",
        "df = pd.read_csv(\"card_transdata.csv\")"
      ],
      "metadata": {
        "id": "SXL_1P4R0vYB"
      },
      "execution_count": 3,
      "outputs": []
    },
    {
      "cell_type": "markdown",
      "source": [
        "# EDA"
      ],
      "metadata": {
        "id": "VX3vheweTFfc"
      }
    },
    {
      "cell_type": "code",
      "source": [
        "df.head()"
      ],
      "metadata": {
        "colab": {
          "base_uri": "https://localhost:8080/",
          "height": 206
        },
        "id": "zRhaPoHp02Dw",
        "outputId": "7f9c557c-74f0-456a-8633-98fb3eee612f"
      },
      "execution_count": 4,
      "outputs": [
        {
          "output_type": "execute_result",
          "data": {
            "text/plain": [
              "   distance_from_home  distance_from_last_transaction  \\\n",
              "0           57.877857                        0.311140   \n",
              "1           10.829943                        0.175592   \n",
              "2            5.091079                        0.805153   \n",
              "3            2.247564                        5.600044   \n",
              "4           44.190936                        0.566486   \n",
              "\n",
              "   ratio_to_median_purchase_price  repeat_retailer  used_chip  \\\n",
              "0                        1.945940              1.0        1.0   \n",
              "1                        1.294219              1.0        0.0   \n",
              "2                        0.427715              1.0        0.0   \n",
              "3                        0.362663              1.0        1.0   \n",
              "4                        2.222767              1.0        1.0   \n",
              "\n",
              "   used_pin_number  online_order  fraud  \n",
              "0              0.0           0.0    0.0  \n",
              "1              0.0           0.0    0.0  \n",
              "2              0.0           1.0    0.0  \n",
              "3              0.0           1.0    0.0  \n",
              "4              0.0           1.0    0.0  "
            ],
            "text/html": [
              "\n",
              "  <div id=\"df-6c8574d3-3b55-4c61-9107-fbcfeb70aa19\" class=\"colab-df-container\">\n",
              "    <div>\n",
              "<style scoped>\n",
              "    .dataframe tbody tr th:only-of-type {\n",
              "        vertical-align: middle;\n",
              "    }\n",
              "\n",
              "    .dataframe tbody tr th {\n",
              "        vertical-align: top;\n",
              "    }\n",
              "\n",
              "    .dataframe thead th {\n",
              "        text-align: right;\n",
              "    }\n",
              "</style>\n",
              "<table border=\"1\" class=\"dataframe\">\n",
              "  <thead>\n",
              "    <tr style=\"text-align: right;\">\n",
              "      <th></th>\n",
              "      <th>distance_from_home</th>\n",
              "      <th>distance_from_last_transaction</th>\n",
              "      <th>ratio_to_median_purchase_price</th>\n",
              "      <th>repeat_retailer</th>\n",
              "      <th>used_chip</th>\n",
              "      <th>used_pin_number</th>\n",
              "      <th>online_order</th>\n",
              "      <th>fraud</th>\n",
              "    </tr>\n",
              "  </thead>\n",
              "  <tbody>\n",
              "    <tr>\n",
              "      <th>0</th>\n",
              "      <td>57.877857</td>\n",
              "      <td>0.311140</td>\n",
              "      <td>1.945940</td>\n",
              "      <td>1.0</td>\n",
              "      <td>1.0</td>\n",
              "      <td>0.0</td>\n",
              "      <td>0.0</td>\n",
              "      <td>0.0</td>\n",
              "    </tr>\n",
              "    <tr>\n",
              "      <th>1</th>\n",
              "      <td>10.829943</td>\n",
              "      <td>0.175592</td>\n",
              "      <td>1.294219</td>\n",
              "      <td>1.0</td>\n",
              "      <td>0.0</td>\n",
              "      <td>0.0</td>\n",
              "      <td>0.0</td>\n",
              "      <td>0.0</td>\n",
              "    </tr>\n",
              "    <tr>\n",
              "      <th>2</th>\n",
              "      <td>5.091079</td>\n",
              "      <td>0.805153</td>\n",
              "      <td>0.427715</td>\n",
              "      <td>1.0</td>\n",
              "      <td>0.0</td>\n",
              "      <td>0.0</td>\n",
              "      <td>1.0</td>\n",
              "      <td>0.0</td>\n",
              "    </tr>\n",
              "    <tr>\n",
              "      <th>3</th>\n",
              "      <td>2.247564</td>\n",
              "      <td>5.600044</td>\n",
              "      <td>0.362663</td>\n",
              "      <td>1.0</td>\n",
              "      <td>1.0</td>\n",
              "      <td>0.0</td>\n",
              "      <td>1.0</td>\n",
              "      <td>0.0</td>\n",
              "    </tr>\n",
              "    <tr>\n",
              "      <th>4</th>\n",
              "      <td>44.190936</td>\n",
              "      <td>0.566486</td>\n",
              "      <td>2.222767</td>\n",
              "      <td>1.0</td>\n",
              "      <td>1.0</td>\n",
              "      <td>0.0</td>\n",
              "      <td>1.0</td>\n",
              "      <td>0.0</td>\n",
              "    </tr>\n",
              "  </tbody>\n",
              "</table>\n",
              "</div>\n",
              "    <div class=\"colab-df-buttons\">\n",
              "\n",
              "  <div class=\"colab-df-container\">\n",
              "    <button class=\"colab-df-convert\" onclick=\"convertToInteractive('df-6c8574d3-3b55-4c61-9107-fbcfeb70aa19')\"\n",
              "            title=\"Convert this dataframe to an interactive table.\"\n",
              "            style=\"display:none;\">\n",
              "\n",
              "  <svg xmlns=\"http://www.w3.org/2000/svg\" height=\"24px\" viewBox=\"0 -960 960 960\">\n",
              "    <path d=\"M120-120v-720h720v720H120Zm60-500h600v-160H180v160Zm220 220h160v-160H400v160Zm0 220h160v-160H400v160ZM180-400h160v-160H180v160Zm440 0h160v-160H620v160ZM180-180h160v-160H180v160Zm440 0h160v-160H620v160Z\"/>\n",
              "  </svg>\n",
              "    </button>\n",
              "\n",
              "  <style>\n",
              "    .colab-df-container {\n",
              "      display:flex;\n",
              "      gap: 12px;\n",
              "    }\n",
              "\n",
              "    .colab-df-convert {\n",
              "      background-color: #E8F0FE;\n",
              "      border: none;\n",
              "      border-radius: 50%;\n",
              "      cursor: pointer;\n",
              "      display: none;\n",
              "      fill: #1967D2;\n",
              "      height: 32px;\n",
              "      padding: 0 0 0 0;\n",
              "      width: 32px;\n",
              "    }\n",
              "\n",
              "    .colab-df-convert:hover {\n",
              "      background-color: #E2EBFA;\n",
              "      box-shadow: 0px 1px 2px rgba(60, 64, 67, 0.3), 0px 1px 3px 1px rgba(60, 64, 67, 0.15);\n",
              "      fill: #174EA6;\n",
              "    }\n",
              "\n",
              "    .colab-df-buttons div {\n",
              "      margin-bottom: 4px;\n",
              "    }\n",
              "\n",
              "    [theme=dark] .colab-df-convert {\n",
              "      background-color: #3B4455;\n",
              "      fill: #D2E3FC;\n",
              "    }\n",
              "\n",
              "    [theme=dark] .colab-df-convert:hover {\n",
              "      background-color: #434B5C;\n",
              "      box-shadow: 0px 1px 3px 1px rgba(0, 0, 0, 0.15);\n",
              "      filter: drop-shadow(0px 1px 2px rgba(0, 0, 0, 0.3));\n",
              "      fill: #FFFFFF;\n",
              "    }\n",
              "  </style>\n",
              "\n",
              "    <script>\n",
              "      const buttonEl =\n",
              "        document.querySelector('#df-6c8574d3-3b55-4c61-9107-fbcfeb70aa19 button.colab-df-convert');\n",
              "      buttonEl.style.display =\n",
              "        google.colab.kernel.accessAllowed ? 'block' : 'none';\n",
              "\n",
              "      async function convertToInteractive(key) {\n",
              "        const element = document.querySelector('#df-6c8574d3-3b55-4c61-9107-fbcfeb70aa19');\n",
              "        const dataTable =\n",
              "          await google.colab.kernel.invokeFunction('convertToInteractive',\n",
              "                                                    [key], {});\n",
              "        if (!dataTable) return;\n",
              "\n",
              "        const docLinkHtml = 'Like what you see? Visit the ' +\n",
              "          '<a target=\"_blank\" href=https://colab.research.google.com/notebooks/data_table.ipynb>data table notebook</a>'\n",
              "          + ' to learn more about interactive tables.';\n",
              "        element.innerHTML = '';\n",
              "        dataTable['output_type'] = 'display_data';\n",
              "        await google.colab.output.renderOutput(dataTable, element);\n",
              "        const docLink = document.createElement('div');\n",
              "        docLink.innerHTML = docLinkHtml;\n",
              "        element.appendChild(docLink);\n",
              "      }\n",
              "    </script>\n",
              "  </div>\n",
              "\n",
              "\n",
              "<div id=\"df-26f28e75-3d42-451c-8f56-fc790861af99\">\n",
              "  <button class=\"colab-df-quickchart\" onclick=\"quickchart('df-26f28e75-3d42-451c-8f56-fc790861af99')\"\n",
              "            title=\"Suggest charts.\"\n",
              "            style=\"display:none;\">\n",
              "\n",
              "<svg xmlns=\"http://www.w3.org/2000/svg\" height=\"24px\"viewBox=\"0 0 24 24\"\n",
              "     width=\"24px\">\n",
              "    <g>\n",
              "        <path d=\"M19 3H5c-1.1 0-2 .9-2 2v14c0 1.1.9 2 2 2h14c1.1 0 2-.9 2-2V5c0-1.1-.9-2-2-2zM9 17H7v-7h2v7zm4 0h-2V7h2v10zm4 0h-2v-4h2v4z\"/>\n",
              "    </g>\n",
              "</svg>\n",
              "  </button>\n",
              "\n",
              "<style>\n",
              "  .colab-df-quickchart {\n",
              "      --bg-color: #E8F0FE;\n",
              "      --fill-color: #1967D2;\n",
              "      --hover-bg-color: #E2EBFA;\n",
              "      --hover-fill-color: #174EA6;\n",
              "      --disabled-fill-color: #AAA;\n",
              "      --disabled-bg-color: #DDD;\n",
              "  }\n",
              "\n",
              "  [theme=dark] .colab-df-quickchart {\n",
              "      --bg-color: #3B4455;\n",
              "      --fill-color: #D2E3FC;\n",
              "      --hover-bg-color: #434B5C;\n",
              "      --hover-fill-color: #FFFFFF;\n",
              "      --disabled-bg-color: #3B4455;\n",
              "      --disabled-fill-color: #666;\n",
              "  }\n",
              "\n",
              "  .colab-df-quickchart {\n",
              "    background-color: var(--bg-color);\n",
              "    border: none;\n",
              "    border-radius: 50%;\n",
              "    cursor: pointer;\n",
              "    display: none;\n",
              "    fill: var(--fill-color);\n",
              "    height: 32px;\n",
              "    padding: 0;\n",
              "    width: 32px;\n",
              "  }\n",
              "\n",
              "  .colab-df-quickchart:hover {\n",
              "    background-color: var(--hover-bg-color);\n",
              "    box-shadow: 0 1px 2px rgba(60, 64, 67, 0.3), 0 1px 3px 1px rgba(60, 64, 67, 0.15);\n",
              "    fill: var(--button-hover-fill-color);\n",
              "  }\n",
              "\n",
              "  .colab-df-quickchart-complete:disabled,\n",
              "  .colab-df-quickchart-complete:disabled:hover {\n",
              "    background-color: var(--disabled-bg-color);\n",
              "    fill: var(--disabled-fill-color);\n",
              "    box-shadow: none;\n",
              "  }\n",
              "\n",
              "  .colab-df-spinner {\n",
              "    border: 2px solid var(--fill-color);\n",
              "    border-color: transparent;\n",
              "    border-bottom-color: var(--fill-color);\n",
              "    animation:\n",
              "      spin 1s steps(1) infinite;\n",
              "  }\n",
              "\n",
              "  @keyframes spin {\n",
              "    0% {\n",
              "      border-color: transparent;\n",
              "      border-bottom-color: var(--fill-color);\n",
              "      border-left-color: var(--fill-color);\n",
              "    }\n",
              "    20% {\n",
              "      border-color: transparent;\n",
              "      border-left-color: var(--fill-color);\n",
              "      border-top-color: var(--fill-color);\n",
              "    }\n",
              "    30% {\n",
              "      border-color: transparent;\n",
              "      border-left-color: var(--fill-color);\n",
              "      border-top-color: var(--fill-color);\n",
              "      border-right-color: var(--fill-color);\n",
              "    }\n",
              "    40% {\n",
              "      border-color: transparent;\n",
              "      border-right-color: var(--fill-color);\n",
              "      border-top-color: var(--fill-color);\n",
              "    }\n",
              "    60% {\n",
              "      border-color: transparent;\n",
              "      border-right-color: var(--fill-color);\n",
              "    }\n",
              "    80% {\n",
              "      border-color: transparent;\n",
              "      border-right-color: var(--fill-color);\n",
              "      border-bottom-color: var(--fill-color);\n",
              "    }\n",
              "    90% {\n",
              "      border-color: transparent;\n",
              "      border-bottom-color: var(--fill-color);\n",
              "    }\n",
              "  }\n",
              "</style>\n",
              "\n",
              "  <script>\n",
              "    async function quickchart(key) {\n",
              "      const quickchartButtonEl =\n",
              "        document.querySelector('#' + key + ' button');\n",
              "      quickchartButtonEl.disabled = true;  // To prevent multiple clicks.\n",
              "      quickchartButtonEl.classList.add('colab-df-spinner');\n",
              "      try {\n",
              "        const charts = await google.colab.kernel.invokeFunction(\n",
              "            'suggestCharts', [key], {});\n",
              "      } catch (error) {\n",
              "        console.error('Error during call to suggestCharts:', error);\n",
              "      }\n",
              "      quickchartButtonEl.classList.remove('colab-df-spinner');\n",
              "      quickchartButtonEl.classList.add('colab-df-quickchart-complete');\n",
              "    }\n",
              "    (() => {\n",
              "      let quickchartButtonEl =\n",
              "        document.querySelector('#df-26f28e75-3d42-451c-8f56-fc790861af99 button');\n",
              "      quickchartButtonEl.style.display =\n",
              "        google.colab.kernel.accessAllowed ? 'block' : 'none';\n",
              "    })();\n",
              "  </script>\n",
              "</div>\n",
              "    </div>\n",
              "  </div>\n"
            ]
          },
          "metadata": {},
          "execution_count": 4
        }
      ]
    },
    {
      "cell_type": "code",
      "source": [
        "df.shape"
      ],
      "metadata": {
        "colab": {
          "base_uri": "https://localhost:8080/"
        },
        "id": "5rX8ilPs05SY",
        "outputId": "e8132c2c-0efb-4803-cb40-27477d66d4b2"
      },
      "execution_count": 5,
      "outputs": [
        {
          "output_type": "execute_result",
          "data": {
            "text/plain": [
              "(1000000, 8)"
            ]
          },
          "metadata": {},
          "execution_count": 5
        }
      ]
    },
    {
      "cell_type": "code",
      "source": [
        "df.describe(include = \"all\")"
      ],
      "metadata": {
        "colab": {
          "base_uri": "https://localhost:8080/",
          "height": 300
        },
        "id": "HYN0tJfw06Tx",
        "outputId": "0178fae4-8777-4709-94ca-d078c13d7940"
      },
      "execution_count": 6,
      "outputs": [
        {
          "output_type": "execute_result",
          "data": {
            "text/plain": [
              "       distance_from_home  distance_from_last_transaction  \\\n",
              "count      1000000.000000                  1000000.000000   \n",
              "mean            26.628792                        5.036519   \n",
              "std             65.390784                       25.843093   \n",
              "min              0.004874                        0.000118   \n",
              "25%              3.878008                        0.296671   \n",
              "50%              9.967760                        0.998650   \n",
              "75%             25.743985                        3.355748   \n",
              "max          10632.723672                    11851.104565   \n",
              "\n",
              "       ratio_to_median_purchase_price  repeat_retailer       used_chip  \\\n",
              "count                  1000000.000000   1000000.000000  1000000.000000   \n",
              "mean                         1.824182         0.881536        0.350399   \n",
              "std                          2.799589         0.323157        0.477095   \n",
              "min                          0.004399         0.000000        0.000000   \n",
              "25%                          0.475673         1.000000        0.000000   \n",
              "50%                          0.997717         1.000000        0.000000   \n",
              "75%                          2.096370         1.000000        1.000000   \n",
              "max                        267.802942         1.000000        1.000000   \n",
              "\n",
              "       used_pin_number    online_order           fraud  \n",
              "count   1000000.000000  1000000.000000  1000000.000000  \n",
              "mean          0.100608        0.650552        0.087403  \n",
              "std           0.300809        0.476796        0.282425  \n",
              "min           0.000000        0.000000        0.000000  \n",
              "25%           0.000000        0.000000        0.000000  \n",
              "50%           0.000000        1.000000        0.000000  \n",
              "75%           0.000000        1.000000        0.000000  \n",
              "max           1.000000        1.000000        1.000000  "
            ],
            "text/html": [
              "\n",
              "  <div id=\"df-34124967-6c41-4fbd-ac94-f802a0f92723\" class=\"colab-df-container\">\n",
              "    <div>\n",
              "<style scoped>\n",
              "    .dataframe tbody tr th:only-of-type {\n",
              "        vertical-align: middle;\n",
              "    }\n",
              "\n",
              "    .dataframe tbody tr th {\n",
              "        vertical-align: top;\n",
              "    }\n",
              "\n",
              "    .dataframe thead th {\n",
              "        text-align: right;\n",
              "    }\n",
              "</style>\n",
              "<table border=\"1\" class=\"dataframe\">\n",
              "  <thead>\n",
              "    <tr style=\"text-align: right;\">\n",
              "      <th></th>\n",
              "      <th>distance_from_home</th>\n",
              "      <th>distance_from_last_transaction</th>\n",
              "      <th>ratio_to_median_purchase_price</th>\n",
              "      <th>repeat_retailer</th>\n",
              "      <th>used_chip</th>\n",
              "      <th>used_pin_number</th>\n",
              "      <th>online_order</th>\n",
              "      <th>fraud</th>\n",
              "    </tr>\n",
              "  </thead>\n",
              "  <tbody>\n",
              "    <tr>\n",
              "      <th>count</th>\n",
              "      <td>1000000.000000</td>\n",
              "      <td>1000000.000000</td>\n",
              "      <td>1000000.000000</td>\n",
              "      <td>1000000.000000</td>\n",
              "      <td>1000000.000000</td>\n",
              "      <td>1000000.000000</td>\n",
              "      <td>1000000.000000</td>\n",
              "      <td>1000000.000000</td>\n",
              "    </tr>\n",
              "    <tr>\n",
              "      <th>mean</th>\n",
              "      <td>26.628792</td>\n",
              "      <td>5.036519</td>\n",
              "      <td>1.824182</td>\n",
              "      <td>0.881536</td>\n",
              "      <td>0.350399</td>\n",
              "      <td>0.100608</td>\n",
              "      <td>0.650552</td>\n",
              "      <td>0.087403</td>\n",
              "    </tr>\n",
              "    <tr>\n",
              "      <th>std</th>\n",
              "      <td>65.390784</td>\n",
              "      <td>25.843093</td>\n",
              "      <td>2.799589</td>\n",
              "      <td>0.323157</td>\n",
              "      <td>0.477095</td>\n",
              "      <td>0.300809</td>\n",
              "      <td>0.476796</td>\n",
              "      <td>0.282425</td>\n",
              "    </tr>\n",
              "    <tr>\n",
              "      <th>min</th>\n",
              "      <td>0.004874</td>\n",
              "      <td>0.000118</td>\n",
              "      <td>0.004399</td>\n",
              "      <td>0.000000</td>\n",
              "      <td>0.000000</td>\n",
              "      <td>0.000000</td>\n",
              "      <td>0.000000</td>\n",
              "      <td>0.000000</td>\n",
              "    </tr>\n",
              "    <tr>\n",
              "      <th>25%</th>\n",
              "      <td>3.878008</td>\n",
              "      <td>0.296671</td>\n",
              "      <td>0.475673</td>\n",
              "      <td>1.000000</td>\n",
              "      <td>0.000000</td>\n",
              "      <td>0.000000</td>\n",
              "      <td>0.000000</td>\n",
              "      <td>0.000000</td>\n",
              "    </tr>\n",
              "    <tr>\n",
              "      <th>50%</th>\n",
              "      <td>9.967760</td>\n",
              "      <td>0.998650</td>\n",
              "      <td>0.997717</td>\n",
              "      <td>1.000000</td>\n",
              "      <td>0.000000</td>\n",
              "      <td>0.000000</td>\n",
              "      <td>1.000000</td>\n",
              "      <td>0.000000</td>\n",
              "    </tr>\n",
              "    <tr>\n",
              "      <th>75%</th>\n",
              "      <td>25.743985</td>\n",
              "      <td>3.355748</td>\n",
              "      <td>2.096370</td>\n",
              "      <td>1.000000</td>\n",
              "      <td>1.000000</td>\n",
              "      <td>0.000000</td>\n",
              "      <td>1.000000</td>\n",
              "      <td>0.000000</td>\n",
              "    </tr>\n",
              "    <tr>\n",
              "      <th>max</th>\n",
              "      <td>10632.723672</td>\n",
              "      <td>11851.104565</td>\n",
              "      <td>267.802942</td>\n",
              "      <td>1.000000</td>\n",
              "      <td>1.000000</td>\n",
              "      <td>1.000000</td>\n",
              "      <td>1.000000</td>\n",
              "      <td>1.000000</td>\n",
              "    </tr>\n",
              "  </tbody>\n",
              "</table>\n",
              "</div>\n",
              "    <div class=\"colab-df-buttons\">\n",
              "\n",
              "  <div class=\"colab-df-container\">\n",
              "    <button class=\"colab-df-convert\" onclick=\"convertToInteractive('df-34124967-6c41-4fbd-ac94-f802a0f92723')\"\n",
              "            title=\"Convert this dataframe to an interactive table.\"\n",
              "            style=\"display:none;\">\n",
              "\n",
              "  <svg xmlns=\"http://www.w3.org/2000/svg\" height=\"24px\" viewBox=\"0 -960 960 960\">\n",
              "    <path d=\"M120-120v-720h720v720H120Zm60-500h600v-160H180v160Zm220 220h160v-160H400v160Zm0 220h160v-160H400v160ZM180-400h160v-160H180v160Zm440 0h160v-160H620v160ZM180-180h160v-160H180v160Zm440 0h160v-160H620v160Z\"/>\n",
              "  </svg>\n",
              "    </button>\n",
              "\n",
              "  <style>\n",
              "    .colab-df-container {\n",
              "      display:flex;\n",
              "      gap: 12px;\n",
              "    }\n",
              "\n",
              "    .colab-df-convert {\n",
              "      background-color: #E8F0FE;\n",
              "      border: none;\n",
              "      border-radius: 50%;\n",
              "      cursor: pointer;\n",
              "      display: none;\n",
              "      fill: #1967D2;\n",
              "      height: 32px;\n",
              "      padding: 0 0 0 0;\n",
              "      width: 32px;\n",
              "    }\n",
              "\n",
              "    .colab-df-convert:hover {\n",
              "      background-color: #E2EBFA;\n",
              "      box-shadow: 0px 1px 2px rgba(60, 64, 67, 0.3), 0px 1px 3px 1px rgba(60, 64, 67, 0.15);\n",
              "      fill: #174EA6;\n",
              "    }\n",
              "\n",
              "    .colab-df-buttons div {\n",
              "      margin-bottom: 4px;\n",
              "    }\n",
              "\n",
              "    [theme=dark] .colab-df-convert {\n",
              "      background-color: #3B4455;\n",
              "      fill: #D2E3FC;\n",
              "    }\n",
              "\n",
              "    [theme=dark] .colab-df-convert:hover {\n",
              "      background-color: #434B5C;\n",
              "      box-shadow: 0px 1px 3px 1px rgba(0, 0, 0, 0.15);\n",
              "      filter: drop-shadow(0px 1px 2px rgba(0, 0, 0, 0.3));\n",
              "      fill: #FFFFFF;\n",
              "    }\n",
              "  </style>\n",
              "\n",
              "    <script>\n",
              "      const buttonEl =\n",
              "        document.querySelector('#df-34124967-6c41-4fbd-ac94-f802a0f92723 button.colab-df-convert');\n",
              "      buttonEl.style.display =\n",
              "        google.colab.kernel.accessAllowed ? 'block' : 'none';\n",
              "\n",
              "      async function convertToInteractive(key) {\n",
              "        const element = document.querySelector('#df-34124967-6c41-4fbd-ac94-f802a0f92723');\n",
              "        const dataTable =\n",
              "          await google.colab.kernel.invokeFunction('convertToInteractive',\n",
              "                                                    [key], {});\n",
              "        if (!dataTable) return;\n",
              "\n",
              "        const docLinkHtml = 'Like what you see? Visit the ' +\n",
              "          '<a target=\"_blank\" href=https://colab.research.google.com/notebooks/data_table.ipynb>data table notebook</a>'\n",
              "          + ' to learn more about interactive tables.';\n",
              "        element.innerHTML = '';\n",
              "        dataTable['output_type'] = 'display_data';\n",
              "        await google.colab.output.renderOutput(dataTable, element);\n",
              "        const docLink = document.createElement('div');\n",
              "        docLink.innerHTML = docLinkHtml;\n",
              "        element.appendChild(docLink);\n",
              "      }\n",
              "    </script>\n",
              "  </div>\n",
              "\n",
              "\n",
              "<div id=\"df-d2ead59b-45be-4af8-baf4-d7523559176a\">\n",
              "  <button class=\"colab-df-quickchart\" onclick=\"quickchart('df-d2ead59b-45be-4af8-baf4-d7523559176a')\"\n",
              "            title=\"Suggest charts.\"\n",
              "            style=\"display:none;\">\n",
              "\n",
              "<svg xmlns=\"http://www.w3.org/2000/svg\" height=\"24px\"viewBox=\"0 0 24 24\"\n",
              "     width=\"24px\">\n",
              "    <g>\n",
              "        <path d=\"M19 3H5c-1.1 0-2 .9-2 2v14c0 1.1.9 2 2 2h14c1.1 0 2-.9 2-2V5c0-1.1-.9-2-2-2zM9 17H7v-7h2v7zm4 0h-2V7h2v10zm4 0h-2v-4h2v4z\"/>\n",
              "    </g>\n",
              "</svg>\n",
              "  </button>\n",
              "\n",
              "<style>\n",
              "  .colab-df-quickchart {\n",
              "      --bg-color: #E8F0FE;\n",
              "      --fill-color: #1967D2;\n",
              "      --hover-bg-color: #E2EBFA;\n",
              "      --hover-fill-color: #174EA6;\n",
              "      --disabled-fill-color: #AAA;\n",
              "      --disabled-bg-color: #DDD;\n",
              "  }\n",
              "\n",
              "  [theme=dark] .colab-df-quickchart {\n",
              "      --bg-color: #3B4455;\n",
              "      --fill-color: #D2E3FC;\n",
              "      --hover-bg-color: #434B5C;\n",
              "      --hover-fill-color: #FFFFFF;\n",
              "      --disabled-bg-color: #3B4455;\n",
              "      --disabled-fill-color: #666;\n",
              "  }\n",
              "\n",
              "  .colab-df-quickchart {\n",
              "    background-color: var(--bg-color);\n",
              "    border: none;\n",
              "    border-radius: 50%;\n",
              "    cursor: pointer;\n",
              "    display: none;\n",
              "    fill: var(--fill-color);\n",
              "    height: 32px;\n",
              "    padding: 0;\n",
              "    width: 32px;\n",
              "  }\n",
              "\n",
              "  .colab-df-quickchart:hover {\n",
              "    background-color: var(--hover-bg-color);\n",
              "    box-shadow: 0 1px 2px rgba(60, 64, 67, 0.3), 0 1px 3px 1px rgba(60, 64, 67, 0.15);\n",
              "    fill: var(--button-hover-fill-color);\n",
              "  }\n",
              "\n",
              "  .colab-df-quickchart-complete:disabled,\n",
              "  .colab-df-quickchart-complete:disabled:hover {\n",
              "    background-color: var(--disabled-bg-color);\n",
              "    fill: var(--disabled-fill-color);\n",
              "    box-shadow: none;\n",
              "  }\n",
              "\n",
              "  .colab-df-spinner {\n",
              "    border: 2px solid var(--fill-color);\n",
              "    border-color: transparent;\n",
              "    border-bottom-color: var(--fill-color);\n",
              "    animation:\n",
              "      spin 1s steps(1) infinite;\n",
              "  }\n",
              "\n",
              "  @keyframes spin {\n",
              "    0% {\n",
              "      border-color: transparent;\n",
              "      border-bottom-color: var(--fill-color);\n",
              "      border-left-color: var(--fill-color);\n",
              "    }\n",
              "    20% {\n",
              "      border-color: transparent;\n",
              "      border-left-color: var(--fill-color);\n",
              "      border-top-color: var(--fill-color);\n",
              "    }\n",
              "    30% {\n",
              "      border-color: transparent;\n",
              "      border-left-color: var(--fill-color);\n",
              "      border-top-color: var(--fill-color);\n",
              "      border-right-color: var(--fill-color);\n",
              "    }\n",
              "    40% {\n",
              "      border-color: transparent;\n",
              "      border-right-color: var(--fill-color);\n",
              "      border-top-color: var(--fill-color);\n",
              "    }\n",
              "    60% {\n",
              "      border-color: transparent;\n",
              "      border-right-color: var(--fill-color);\n",
              "    }\n",
              "    80% {\n",
              "      border-color: transparent;\n",
              "      border-right-color: var(--fill-color);\n",
              "      border-bottom-color: var(--fill-color);\n",
              "    }\n",
              "    90% {\n",
              "      border-color: transparent;\n",
              "      border-bottom-color: var(--fill-color);\n",
              "    }\n",
              "  }\n",
              "</style>\n",
              "\n",
              "  <script>\n",
              "    async function quickchart(key) {\n",
              "      const quickchartButtonEl =\n",
              "        document.querySelector('#' + key + ' button');\n",
              "      quickchartButtonEl.disabled = true;  // To prevent multiple clicks.\n",
              "      quickchartButtonEl.classList.add('colab-df-spinner');\n",
              "      try {\n",
              "        const charts = await google.colab.kernel.invokeFunction(\n",
              "            'suggestCharts', [key], {});\n",
              "      } catch (error) {\n",
              "        console.error('Error during call to suggestCharts:', error);\n",
              "      }\n",
              "      quickchartButtonEl.classList.remove('colab-df-spinner');\n",
              "      quickchartButtonEl.classList.add('colab-df-quickchart-complete');\n",
              "    }\n",
              "    (() => {\n",
              "      let quickchartButtonEl =\n",
              "        document.querySelector('#df-d2ead59b-45be-4af8-baf4-d7523559176a button');\n",
              "      quickchartButtonEl.style.display =\n",
              "        google.colab.kernel.accessAllowed ? 'block' : 'none';\n",
              "    })();\n",
              "  </script>\n",
              "</div>\n",
              "    </div>\n",
              "  </div>\n"
            ]
          },
          "metadata": {},
          "execution_count": 6
        }
      ]
    },
    {
      "cell_type": "code",
      "source": [
        "# Checking the number of fraud cases\n",
        "df['fraud'].value_counts()"
      ],
      "metadata": {
        "colab": {
          "base_uri": "https://localhost:8080/"
        },
        "id": "FAjwFu8K1Lix",
        "outputId": "bfc473b4-04c4-4052-9e0b-035336e104d9"
      },
      "execution_count": 7,
      "outputs": [
        {
          "output_type": "execute_result",
          "data": {
            "text/plain": [
              "0.0    912597\n",
              "1.0     87403\n",
              "Name: fraud, dtype: int64"
            ]
          },
          "metadata": {},
          "execution_count": 7
        }
      ]
    },
    {
      "cell_type": "code",
      "source": [
        "df.hist(bins = 30, figsize=(30,30))"
      ],
      "metadata": {
        "colab": {
          "base_uri": "https://localhost:8080/",
          "height": 1000
        },
        "id": "Bp21qxTn1R0B",
        "outputId": "749113c2-eb0b-4220-bce6-838809b058d8"
      },
      "execution_count": 8,
      "outputs": [
        {
          "output_type": "execute_result",
          "data": {
            "text/plain": [
              "array([[<Axes: title={'center': 'distance_from_home'}>,\n",
              "        <Axes: title={'center': 'distance_from_last_transaction'}>,\n",
              "        <Axes: title={'center': 'ratio_to_median_purchase_price'}>],\n",
              "       [<Axes: title={'center': 'repeat_retailer'}>,\n",
              "        <Axes: title={'center': 'used_chip'}>,\n",
              "        <Axes: title={'center': 'used_pin_number'}>],\n",
              "       [<Axes: title={'center': 'online_order'}>,\n",
              "        <Axes: title={'center': 'fraud'}>, <Axes: >]], dtype=object)"
            ]
          },
          "metadata": {},
          "execution_count": 8
        },
        {
          "output_type": "display_data",
          "data": {
            "text/plain": [
              "<Figure size 3000x3000 with 9 Axes>"
            ],
            "image/png": "[encoded data removed]"
          },
          "metadata": {}
        }
      ]
    },
    {
      "cell_type": "markdown",
      "source": [
        "# Data Cleaning"
      ],
      "metadata": {
        "id": "YuQKHMjDTJgk"
      }
    },
    {
      "cell_type": "code",
      "source": [
        "# Robust scaling of amount\n",
        "new_df = df.copy()\n",
        "new_df['distance_from_home'] = RobustScaler().fit_transform(new_df['distance_from_home']. to_numpy().reshape(-1,1))\n",
        "new_df['distance_from_last_transaction'] = RobustScaler().fit_transform(new_df['distance_from_last_transaction']. to_numpy().reshape(-1,1))\n",
        "new_df['ratio_to_median_purchase_price'] = RobustScaler().fit_transform(new_df['ratio_to_median_purchase_price']. to_numpy().reshape(-1,1))\n",
        "\n",
        "new_df.hist(bins = 30, figsize=(30,30))"
      ],
      "metadata": {
        "colab": {
          "base_uri": "https://localhost:8080/",
          "height": 1000
        },
        "id": "aUVpesfG1thB",
        "outputId": "ccb5c179-1222-4503-cfcb-ff62121eb18f"
      },
      "execution_count": 9,
      "outputs": [
        {
          "output_type": "execute_result",
          "data": {
            "text/plain": [
              "array([[<Axes: title={'center': 'distance_from_home'}>,\n",
              "        <Axes: title={'center': 'distance_from_last_transaction'}>,\n",
              "        <Axes: title={'center': 'ratio_to_median_purchase_price'}>],\n",
              "       [<Axes: title={'center': 'repeat_retailer'}>,\n",
              "        <Axes: title={'center': 'used_chip'}>,\n",
              "        <Axes: title={'center': 'used_pin_number'}>],\n",
              "       [<Axes: title={'center': 'online_order'}>,\n",
              "        <Axes: title={'center': 'fraud'}>, <Axes: >]], dtype=object)"
            ]
          },
          "metadata": {},
          "execution_count": 9
        },
        {
          "output_type": "display_data",
          "data": {
            "text/plain": [
              "<Figure size 3000x3000 with 9 Axes>"
            ],
            "image/png": "[encoded data removed]"
          },
          "metadata": {}
        }
      ]
    },
    {
      "cell_type": "markdown",
      "source": [
        "# Analysis with Unbalanced Data\n"
      ],
      "metadata": {
        "id": "YgjqexLjTNm8"
      }
    },
    {
      "cell_type": "markdown",
      "source": [
        "## Train, Test, Validation split"
      ],
      "metadata": {
        "id": "v0fhWP3uVu6k"
      }
    },
    {
      "cell_type": "code",
      "source": [
        "# Creating train (70%), validation (20%), and test (10%) sets\n",
        "train, val = model_selection.train_test_split(new_df, stratify=new_df['fraud'], test_size = 0.2)\n",
        "train, test = model_selection.train_test_split(train, stratify = train['fraud'], test_size = 0.125)"
      ],
      "metadata": {
        "id": "28QsODpK5euf"
      },
      "execution_count": 10,
      "outputs": []
    },
    {
      "cell_type": "code",
      "source": [
        "train['fraud'].describe()"
      ],
      "metadata": {
        "colab": {
          "base_uri": "https://localhost:8080/"
        },
        "id": "rmQ5B7IG75AP",
        "outputId": "1696f5e9-bc08-43b5-8a32-dbf13aa15f48"
      },
      "execution_count": 11,
      "outputs": [
        {
          "output_type": "execute_result",
          "data": {
            "text/plain": [
              "count    700000.000000\n",
              "mean          0.087403\n",
              "std           0.282425\n",
              "min           0.000000\n",
              "25%           0.000000\n",
              "50%           0.000000\n",
              "75%           0.000000\n",
              "max           1.000000\n",
              "Name: fraud, dtype: float64"
            ]
          },
          "metadata": {},
          "execution_count": 11
        }
      ]
    },
    {
      "cell_type": "code",
      "source": [
        "val['fraud'].describe()"
      ],
      "metadata": {
        "colab": {
          "base_uri": "https://localhost:8080/"
        },
        "id": "m-K7EZjH9OaX",
        "outputId": "54aa7d3a-6733-488d-aa61-29872af9cf40"
      },
      "execution_count": 12,
      "outputs": [
        {
          "output_type": "execute_result",
          "data": {
            "text/plain": [
              "count    200000.000000\n",
              "mean          0.087405\n",
              "std           0.282428\n",
              "min           0.000000\n",
              "25%           0.000000\n",
              "50%           0.000000\n",
              "75%           0.000000\n",
              "max           1.000000\n",
              "Name: fraud, dtype: float64"
            ]
          },
          "metadata": {},
          "execution_count": 12
        }
      ]
    },
    {
      "cell_type": "code",
      "source": [
        "test['fraud'].describe()"
      ],
      "metadata": {
        "colab": {
          "base_uri": "https://localhost:8080/"
        },
        "id": "FSQcjV-w76Tn",
        "outputId": "93274a84-a45b-47f3-b3e9-192d0852accb"
      },
      "execution_count": 13,
      "outputs": [
        {
          "output_type": "execute_result",
          "data": {
            "text/plain": [
              "count    100000.000000\n",
              "mean          0.087400\n",
              "std           0.282422\n",
              "min           0.000000\n",
              "25%           0.000000\n",
              "50%           0.000000\n",
              "75%           0.000000\n",
              "max           1.000000\n",
              "Name: fraud, dtype: float64"
            ]
          },
          "metadata": {},
          "execution_count": 13
        }
      ]
    },
    {
      "cell_type": "code",
      "source": [
        "train_np, test_np, val_np = train.to_numpy(), test.to_numpy(), val.to_numpy()\n",
        "train_np.shape, test_np.shape, val_np.shape"
      ],
      "metadata": {
        "colab": {
          "base_uri": "https://localhost:8080/"
        },
        "id": "EUPF-X0a-A6_",
        "outputId": "3c3766c7-516a-4184-eadf-72942d2688a9"
      },
      "execution_count": 14,
      "outputs": [
        {
          "output_type": "execute_result",
          "data": {
            "text/plain": [
              "((700000, 8), (100000, 8), (200000, 8))"
            ]
          },
          "metadata": {},
          "execution_count": 14
        }
      ]
    },
    {
      "cell_type": "code",
      "source": [
        "x_train, y_train = train_np[:, :-1], train_np[:, -1]\n",
        "x_test, y_test = test_np[:, :-1], test_np[:, -1]\n",
        "x_val, y_val = val_np[:, :-1], val_np[:, -1]\n",
        "\n",
        "x_train.shape, y_train.shape, x_test.shape, y_test.shape, x_val.shape, y_val.shape"
      ],
      "metadata": {
        "colab": {
          "base_uri": "https://localhost:8080/"
        },
        "id": "dljrtnY9-RJJ",
        "outputId": "ee3e4004-2c70-42a8-c4d0-6622115543b9"
      },
      "execution_count": 15,
      "outputs": [
        {
          "output_type": "execute_result",
          "data": {
            "text/plain": [
              "((700000, 7), (700000,), (100000, 7), (100000,), (200000, 7), (200000,))"
            ]
          },
          "metadata": {},
          "execution_count": 15
        }
      ]
    },
    {
      "cell_type": "markdown",
      "source": [
        "## Modeling"
      ],
      "metadata": {
        "id": "GampMiOjTpPM"
      }
    },
    {
      "cell_type": "markdown",
      "source": [
        "### Logistic regression"
      ],
      "metadata": {
        "id": "qwRR0t2NVAg4"
      }
    },
    {
      "cell_type": "code",
      "source": [
        "logistic_model = LogisticRegression()\n",
        "logistic_model.fit(x_train, y_train)\n",
        "logistic_model.score(x_train, y_train)"
      ],
      "metadata": {
        "colab": {
          "base_uri": "https://localhost:8080/"
        },
        "id": "kWVei7PY_L43",
        "outputId": "965c359b-b756-4df0-d0de-2389cc7f196d"
      },
      "execution_count": 16,
      "outputs": [
        {
          "output_type": "execute_result",
          "data": {
            "text/plain": [
              "0.9586757142857143"
            ]
          },
          "metadata": {},
          "execution_count": 16
        }
      ]
    },
    {
      "cell_type": "code",
      "source": [
        "print(classification_report(y_val, logistic_model.predict(x_val), target_names = ['Not Fraud', 'Fraud']))"
      ],
      "metadata": {
        "colab": {
          "base_uri": "https://localhost:8080/"
        },
        "id": "nRka8Bx6_aIj",
        "outputId": "56fad410-cdea-4777-b653-5bd172e7a5a6"
      },
      "execution_count": 17,
      "outputs": [
        {
          "output_type": "stream",
          "name": "stdout",
          "text": [
            "              precision    recall  f1-score   support\n",
            "\n",
            "   Not Fraud       0.96      0.99      0.98    182519\n",
            "       Fraud       0.89      0.60      0.72     17481\n",
            "\n",
            "    accuracy                           0.96    200000\n",
            "   macro avg       0.93      0.80      0.85    200000\n",
            "weighted avg       0.96      0.96      0.96    200000\n",
            "\n"
          ]
        }
      ]
    },
    {
      "cell_type": "markdown",
      "source": [
        "### Shallow neural network"
      ],
      "metadata": {
        "id": "dTtTmUzAVC9j"
      }
    },
    {
      "cell_type": "code",
      "source": [
        "shallow_nn = Sequential()\n",
        "shallow_nn.add(InputLayer((x_train.shape[1], )))\n",
        "shallow_nn.add(Dense(2, 'relu'))\n",
        "shallow_nn.add(BatchNormalization())\n",
        "shallow_nn.add(Dense(1, 'sigmoid'))\n",
        "\n",
        "checkpoint = ModelCheckpoint('shallow_nn', save_best_only = True)\n",
        "shallow_nn.compile(optimizer='adam', loss = 'binary_crossentropy', metrics = ['accuracy'])"
      ],
      "metadata": {
        "id": "ZQSyCybtBRtd"
      },
      "execution_count": 18,
      "outputs": []
    },
    {
      "cell_type": "code",
      "source": [
        "shallow_nn.summary()"
      ],
      "metadata": {
        "colab": {
          "base_uri": "https://localhost:8080/"
        },
        "id": "vrhk_ZtICHcU",
        "outputId": "f6a1c726-1acc-4cd2-efe9-9d03db83d3bf"
      },
      "execution_count": 19,
      "outputs": [
        {
          "output_type": "stream",
          "name": "stdout",
          "text": [
            "Model: \"sequential\"\n",
            "_________________________________________________________________\n",
            " Layer (type)                Output Shape              Param #   \n",
            "=================================================================\n",
            " dense (Dense)               (None, 2)                 16        \n",
            "                                                                 \n",
            " batch_normalization (Batch  (None, 2)                 8         \n",
            " Normalization)                                                  \n",
            "                                                                 \n",
            " dense_1 (Dense)             (None, 1)                 3         \n",
            "                                                                 \n",
            "=================================================================\n",
            "Total params: 27 (108.00 Byte)\n",
            "Trainable params: 23 (92.00 Byte)\n",
            "Non-trainable params: 4 (16.00 Byte)\n",
            "_________________________________________________________________\n"
          ]
        }
      ]
    },
    {
      "cell_type": "code",
      "source": [
        "shallow_nn.fit(x_train, y_train, validation_data = (x_val, y_val), epochs=5, callbacks=checkpoint)"
      ],
      "metadata": {
        "colab": {
          "base_uri": "https://localhost:8080/"
        },
        "id": "VXI0FWqbCPDm",
        "outputId": "a7a5bd45-3533-4c74-963f-9a82689e7801"
      },
      "execution_count": 20,
      "outputs": [
        {
          "output_type": "stream",
          "name": "stdout",
          "text": [
            "Epoch 1/5\n",
            "21875/21875 [==============================] - 58s 3ms/step - loss: 0.1621 - accuracy: 0.9406 - val_loss: 0.1438 - val_accuracy: 0.9422\n",
            "Epoch 2/5\n",
            "21875/21875 [==============================] - 57s 3ms/step - loss: 0.1458 - accuracy: 0.9471 - val_loss: 0.1384 - val_accuracy: 0.9472\n",
            "Epoch 3/5\n",
            "21875/21875 [==============================] - 58s 3ms/step - loss: 0.1462 - accuracy: 0.9470 - val_loss: 0.1370 - val_accuracy: 0.9510\n",
            "Epoch 4/5\n",
            "21875/21875 [==============================] - 57s 3ms/step - loss: 0.1454 - accuracy: 0.9474 - val_loss: 0.1367 - val_accuracy: 0.9498\n",
            "Epoch 5/5\n",
            "21875/21875 [==============================] - 58s 3ms/step - loss: 0.1455 - accuracy: 0.9471 - val_loss: 0.1436 - val_accuracy: 0.9418\n"
          ]
        },
        {
          "output_type": "execute_result",
          "data": {
            "text/plain": [
              "<keras.src.callbacks.History at 0x7f8342ac7340>"
            ]
          },
          "metadata": {},
          "execution_count": 20
        }
      ]
    },
    {
      "cell_type": "code",
      "source": [
        "def neural_net_predictions(model, x):\n",
        "  return (shallow_nn.predict(x).flatten() > 0.5).astype(int)\n",
        "\n",
        "neural_net_predictions(shallow_nn, x_val)"
      ],
      "metadata": {
        "colab": {
          "base_uri": "https://localhost:8080/"
        },
        "id": "g7gmS6nuCi8H",
        "outputId": "e479c74d-0851-4470-c639-326f3700a58c"
      },
      "execution_count": 21,
      "outputs": [
        {
          "output_type": "stream",
          "name": "stdout",
          "text": [
            "6250/6250 [==============================] - 9s 1ms/step\n"
          ]
        },
        {
          "output_type": "execute_result",
          "data": {
            "text/plain": [
              "array([0, 1, 0, ..., 0, 0, 0])"
            ]
          },
          "metadata": {},
          "execution_count": 21
        }
      ]
    },
    {
      "cell_type": "code",
      "source": [
        "print(classification_report(y_val, neural_net_predictions(shallow_nn, x_val), target_names = ['Not Fraud','Fraud']))"
      ],
      "metadata": {
        "colab": {
          "base_uri": "https://localhost:8080/"
        },
        "id": "FWAOzuVlJz2o",
        "outputId": "6655dc91-3628-4b57-f706-7595fc7a15d8"
      },
      "execution_count": 22,
      "outputs": [
        {
          "output_type": "stream",
          "name": "stdout",
          "text": [
            "6250/6250 [==============================] - 9s 1ms/step\n",
            "              precision    recall  f1-score   support\n",
            "\n",
            "   Not Fraud       0.94      0.99      0.97    182519\n",
            "       Fraud       0.87      0.39      0.54     17481\n",
            "\n",
            "    accuracy                           0.94    200000\n",
            "   macro avg       0.91      0.69      0.75    200000\n",
            "weighted avg       0.94      0.94      0.93    200000\n",
            "\n"
          ]
        }
      ]
    },
    {
      "cell_type": "markdown",
      "source": [
        "### Random Forest"
      ],
      "metadata": {
        "id": "y8YUVS_lVHO7"
      }
    },
    {
      "cell_type": "code",
      "source": [
        "rf = RandomForestClassifier(max_depth=2, n_jobs=-1)\n",
        "rf.fit(x_train, y_train)\n",
        "print(classification_report(y_val, rf.predict(x_val), target_names=['Not Fraud', 'Fraud']))"
      ],
      "metadata": {
        "colab": {
          "base_uri": "https://localhost:8080/"
        },
        "id": "peJWKG3PLX9V",
        "outputId": "905476de-df07-46a4-edad-d39de191b25c"
      },
      "execution_count": 23,
      "outputs": [
        {
          "output_type": "stream",
          "name": "stdout",
          "text": [
            "              precision    recall  f1-score   support\n",
            "\n",
            "   Not Fraud       0.92      1.00      0.96    182519\n",
            "       Fraud       1.00      0.10      0.18     17481\n",
            "\n",
            "    accuracy                           0.92    200000\n",
            "   macro avg       0.96      0.55      0.57    200000\n",
            "weighted avg       0.93      0.92      0.89    200000\n",
            "\n"
          ]
        }
      ]
    },
    {
      "cell_type": "markdown",
      "source": [
        "### Gradient Boosting Classifier"
      ],
      "metadata": {
        "id": "tiIRHYWYVJ00"
      }
    },
    {
      "cell_type": "code",
      "source": [
        "gbc = GradientBoostingClassifier(n_estimators = 50, learning_rate = 1.0, max_depth=1 , random_state=0)\n",
        "\n",
        "gbc.fit(x_train, y_train)\n",
        "print(classification_report(y_val, gbc.predict(x_val), target_names=['Not Fraud', 'Fraud']))"
      ],
      "metadata": {
        "colab": {
          "base_uri": "https://localhost:8080/"
        },
        "id": "zdLLaR8oMFjl",
        "outputId": "e95a075f-b26e-4ef5-9203-d0b9b59306dc"
      },
      "execution_count": 24,
      "outputs": [
        {
          "output_type": "stream",
          "name": "stdout",
          "text": [
            "              precision    recall  f1-score   support\n",
            "\n",
            "   Not Fraud       0.97      0.96      0.97    182519\n",
            "       Fraud       0.63      0.74      0.68     17481\n",
            "\n",
            "    accuracy                           0.94    200000\n",
            "   macro avg       0.80      0.85      0.82    200000\n",
            "weighted avg       0.94      0.94      0.94    200000\n",
            "\n"
          ]
        }
      ]
    },
    {
      "cell_type": "markdown",
      "source": [
        "### Support Vector Machine Classifier"
      ],
      "metadata": {
        "id": "3dvQY1-XVNB7"
      }
    },
    {
      "cell_type": "code",
      "source": [
        "svc = LinearSVC(class_weight = 'balanced')\n",
        "svc.fit(x_train, y_train)\n",
        "print(classification_report(y_val, svc.predict(x_val), target_names=['Not Fraud', 'Fraud']))"
      ],
      "metadata": {
        "id": "bL-ng0TgM-T3",
        "colab": {
          "base_uri": "https://localhost:8080/"
        },
        "outputId": "910309f5-9f32-4e8f-d814-97de4540c04a"
      },
      "execution_count": 25,
      "outputs": [
        {
          "output_type": "stream",
          "name": "stderr",
          "text": [
            "/usr/local/lib/python3.10/dist-packages/sklearn/svm/_base.py:1244: ConvergenceWarning: Liblinear failed to converge, increase the number of iterations.\n",
            "  warnings.warn(\n"
          ]
        },
        {
          "output_type": "stream",
          "name": "stdout",
          "text": [
            "              precision    recall  f1-score   support\n",
            "\n",
            "   Not Fraud       0.99      0.94      0.97    182519\n",
            "       Fraud       0.60      0.94      0.73     17481\n",
            "\n",
            "    accuracy                           0.94    200000\n",
            "   macro avg       0.80      0.94      0.85    200000\n",
            "weighted avg       0.96      0.94      0.95    200000\n",
            "\n"
          ]
        }
      ]
    },
    {
      "cell_type": "markdown",
      "source": [
        "### Model scores\n",
        "(Precision, recall, f1-score, support)\n",
        "\n",
        "**Shallow nn**\n",
        "   \n",
        "    Not Fraud       0.97      1.00      0.98    182519\n",
        "           Fraud       0.94      0.73      0.82     17481\n",
        "\n",
        "**svm**\n",
        "    \n",
        "    Not Fraud       0.99      0.94      0.97    182519\n",
        "           Fraud       0.60      0.94      0.73     17481\n",
        "\n",
        "**gbc**\n",
        "\n",
        "    Not Fraud       0.98      0.96      0.97    182519\n",
        "           Fraud       0.63      0.74      0.68     17481\n",
        "\n",
        "**Logistic**     \n",
        "\n",
        "    Not Fraud       0.96      0.99      0.98    182519\n",
        "           Fraud       0.90      0.60      0.72     17481\n",
        "\n",
        "\n",
        "**random forest**  \n",
        "\n",
        "    Not Fraud       0.92      1.00      0.96    182519\n",
        "           Fraud       1.00      0.04      0.09     17481"
      ],
      "metadata": {
        "id": "JRUDuBoeKp6W"
      }
    },
    {
      "cell_type": "markdown",
      "source": [
        "# Analysis with Unbalanced Data"
      ],
      "metadata": {
        "id": "puTTpKTEVhsP"
      }
    },
    {
      "cell_type": "markdown",
      "source": [
        "## Processing"
      ],
      "metadata": {
        "id": "j0AQuxOEVzRT"
      }
    },
    {
      "cell_type": "code",
      "source": [
        "# downscaling not fraudulent transactions\n",
        "not_frauds = new_df.query('fraud == 0')\n",
        "frauds = new_df.query('fraud == 1')\n",
        "not_frauds['fraud'].value_counts(), frauds['fraud'].value_counts()"
      ],
      "metadata": {
        "colab": {
          "base_uri": "https://localhost:8080/"
        },
        "id": "thR5ikLnNxKN",
        "outputId": "316db4ad-10bb-497d-d6be-1d77bfc6bafc"
      },
      "execution_count": 27,
      "outputs": [
        {
          "output_type": "execute_result",
          "data": {
            "text/plain": [
              "(0.0    912597\n",
              " Name: fraud, dtype: int64,\n",
              " 1.0    87403\n",
              " Name: fraud, dtype: int64)"
            ]
          },
          "metadata": {},
          "execution_count": 27
        }
      ]
    },
    {
      "cell_type": "code",
      "source": [
        "balanced_df = pd.concat([frauds, not_frauds.sample(len(frauds), random_state=1)])\n",
        "balanced_df['fraud'].value_counts()"
      ],
      "metadata": {
        "colab": {
          "base_uri": "https://localhost:8080/"
        },
        "id": "u4cp7ZOgOEt1",
        "outputId": "02a99a15-846f-4a85-972a-0bfc06e05e82"
      },
      "execution_count": 28,
      "outputs": [
        {
          "output_type": "execute_result",
          "data": {
            "text/plain": [
              "1.0    87403\n",
              "0.0    87403\n",
              "Name: fraud, dtype: int64"
            ]
          },
          "metadata": {},
          "execution_count": 28
        }
      ]
    },
    {
      "cell_type": "code",
      "source": [
        "balanced_df = balanced_df.sample(frac=1, random_state =1 )"
      ],
      "metadata": {
        "id": "0fnOJuZyOoUm"
      },
      "execution_count": 29,
      "outputs": []
    },
    {
      "cell_type": "code",
      "source": [
        "balanced_df['fraud'] = balanced_df['fraud'].astype(int)"
      ],
      "metadata": {
        "id": "wYJsDaJcQ8ft"
      },
      "execution_count": 30,
      "outputs": []
    },
    {
      "cell_type": "code",
      "source": [
        "balanced_df"
      ],
      "metadata": {
        "colab": {
          "base_uri": "https://localhost:8080/",
          "height": 423
        },
        "id": "NZbSu4wIOte9",
        "outputId": "bb34b0e6-0800-4281-94f1-74fcd871d545"
      },
      "execution_count": 31,
      "outputs": [
        {
          "output_type": "execute_result",
          "data": {
            "text/plain": [
              "        distance_from_home  distance_from_last_transaction  \\\n",
              "985779           -0.433353                        0.449790   \n",
              "738377            0.926008                       -0.193492   \n",
              "882426           -0.046511                        0.371115   \n",
              "787107            7.361619                        0.235172   \n",
              "880136            0.976982                        1.834937   \n",
              "...                    ...                             ...   \n",
              "838967           -0.343476                        0.291259   \n",
              "557401           -0.114701                        0.267531   \n",
              "572209            5.180387                       -0.251034   \n",
              "60119            -0.109250                        0.923129   \n",
              "193051            0.332231                        2.710900   \n",
              "\n",
              "        ratio_to_median_purchase_price  repeat_retailer  used_chip  \\\n",
              "985779                       -0.395139              0.0        0.0   \n",
              "738377                        0.273123              1.0        0.0   \n",
              "882426                        0.040966              1.0        0.0   \n",
              "787107                        5.879320              1.0        0.0   \n",
              "880136                        5.750498              1.0        1.0   \n",
              "...                                ...              ...        ...   \n",
              "838967                        3.339705              1.0        0.0   \n",
              "557401                       -0.001980              1.0        0.0   \n",
              "572209                       -0.294993              1.0        0.0   \n",
              "60119                         4.753717              1.0        1.0   \n",
              "193051                       -0.326989              1.0        1.0   \n",
              "\n",
              "        used_pin_number  online_order  fraud  \n",
              "985779              0.0           1.0      0  \n",
              "738377              0.0           1.0      0  \n",
              "882426              0.0           1.0      0  \n",
              "787107              0.0           1.0      1  \n",
              "880136              0.0           1.0      1  \n",
              "...                 ...           ...    ...  \n",
              "838967              0.0           1.0      1  \n",
              "557401              0.0           1.0      0  \n",
              "572209              0.0           1.0      1  \n",
              "60119               0.0           1.0      1  \n",
              "193051              0.0           0.0      0  \n",
              "\n",
              "[174806 rows x 8 columns]"
            ],
            "text/html": [
              "\n",
              "  <div id=\"df-e7e96328-f540-4be8-aaef-d7125d8a3c84\" class=\"colab-df-container\">\n",
              "    <div>\n",
              "<style scoped>\n",
              "    .dataframe tbody tr th:only-of-type {\n",
              "        vertical-align: middle;\n",
              "    }\n",
              "\n",
              "    .dataframe tbody tr th {\n",
              "        vertical-align: top;\n",
              "    }\n",
              "\n",
              "    .dataframe thead th {\n",
              "        text-align: right;\n",
              "    }\n",
              "</style>\n",
              "<table border=\"1\" class=\"dataframe\">\n",
              "  <thead>\n",
              "    <tr style=\"text-align: right;\">\n",
              "      <th></th>\n",
              "      <th>distance_from_home</th>\n",
              "      <th>distance_from_last_transaction</th>\n",
              "      <th>ratio_to_median_purchase_price</th>\n",
              "      <th>repeat_retailer</th>\n",
              "      <th>used_chip</th>\n",
              "      <th>used_pin_number</th>\n",
              "      <th>online_order</th>\n",
              "      <th>fraud</th>\n",
              "    </tr>\n",
              "  </thead>\n",
              "  <tbody>\n",
              "    <tr>\n",
              "      <th>985779</th>\n",
              "      <td>-0.433353</td>\n",
              "      <td>0.449790</td>\n",
              "      <td>-0.395139</td>\n",
              "      <td>0.0</td>\n",
              "      <td>0.0</td>\n",
              "      <td>0.0</td>\n",
              "      <td>1.0</td>\n",
              "      <td>0</td>\n",
              "    </tr>\n",
              "    <tr>\n",
              "      <th>738377</th>\n",
              "      <td>0.926008</td>\n",
              "      <td>-0.193492</td>\n",
              "      <td>0.273123</td>\n",
              "      <td>1.0</td>\n",
              "      <td>0.0</td>\n",
              "      <td>0.0</td>\n",
              "      <td>1.0</td>\n",
              "      <td>0</td>\n",
              "    </tr>\n",
              "    <tr>\n",
              "      <th>882426</th>\n",
              "      <td>-0.046511</td>\n",
              "      <td>0.371115</td>\n",
              "      <td>0.040966</td>\n",
              "      <td>1.0</td>\n",
              "      <td>0.0</td>\n",
              "      <td>0.0</td>\n",
              "      <td>1.0</td>\n",
              "      <td>0</td>\n",
              "    </tr>\n",
              "    <tr>\n",
              "      <th>787107</th>\n",
              "      <td>7.361619</td>\n",
              "      <td>0.235172</td>\n",
              "      <td>5.879320</td>\n",
              "      <td>1.0</td>\n",
              "      <td>0.0</td>\n",
              "      <td>0.0</td>\n",
              "      <td>1.0</td>\n",
              "      <td>1</td>\n",
              "    </tr>\n",
              "    <tr>\n",
              "      <th>880136</th>\n",
              "      <td>0.976982</td>\n",
              "      <td>1.834937</td>\n",
              "      <td>5.750498</td>\n",
              "      <td>1.0</td>\n",
              "      <td>1.0</td>\n",
              "      <td>0.0</td>\n",
              "      <td>1.0</td>\n",
              "      <td>1</td>\n",
              "    </tr>\n",
              "    <tr>\n",
              "      <th>...</th>\n",
              "      <td>...</td>\n",
              "      <td>...</td>\n",
              "      <td>...</td>\n",
              "      <td>...</td>\n",
              "      <td>...</td>\n",
              "      <td>...</td>\n",
              "      <td>...</td>\n",
              "      <td>...</td>\n",
              "    </tr>\n",
              "    <tr>\n",
              "      <th>838967</th>\n",
              "      <td>-0.343476</td>\n",
              "      <td>0.291259</td>\n",
              "      <td>3.339705</td>\n",
              "      <td>1.0</td>\n",
              "      <td>0.0</td>\n",
              "      <td>0.0</td>\n",
              "      <td>1.0</td>\n",
              "      <td>1</td>\n",
              "    </tr>\n",
              "    <tr>\n",
              "      <th>557401</th>\n",
              "      <td>-0.114701</td>\n",
              "      <td>0.267531</td>\n",
              "      <td>-0.001980</td>\n",
              "      <td>1.0</td>\n",
              "      <td>0.0</td>\n",
              "      <td>0.0</td>\n",
              "      <td>1.0</td>\n",
              "      <td>0</td>\n",
              "    </tr>\n",
              "    <tr>\n",
              "      <th>572209</th>\n",
              "      <td>5.180387</td>\n",
              "      <td>-0.251034</td>\n",
              "      <td>-0.294993</td>\n",
              "      <td>1.0</td>\n",
              "      <td>0.0</td>\n",
              "      <td>0.0</td>\n",
              "      <td>1.0</td>\n",
              "      <td>1</td>\n",
              "    </tr>\n",
              "    <tr>\n",
              "      <th>60119</th>\n",
              "      <td>-0.109250</td>\n",
              "      <td>0.923129</td>\n",
              "      <td>4.753717</td>\n",
              "      <td>1.0</td>\n",
              "      <td>1.0</td>\n",
              "      <td>0.0</td>\n",
              "      <td>1.0</td>\n",
              "      <td>1</td>\n",
              "    </tr>\n",
              "    <tr>\n",
              "      <th>193051</th>\n",
              "      <td>0.332231</td>\n",
              "      <td>2.710900</td>\n",
              "      <td>-0.326989</td>\n",
              "      <td>1.0</td>\n",
              "      <td>1.0</td>\n",
              "      <td>0.0</td>\n",
              "      <td>0.0</td>\n",
              "      <td>0</td>\n",
              "    </tr>\n",
              "  </tbody>\n",
              "</table>\n",
              "<p>174806 rows × 8 columns</p>\n",
              "</div>\n",
              "    <div class=\"colab-df-buttons\">\n",
              "\n",
              "  <div class=\"colab-df-container\">\n",
              "    <button class=\"colab-df-convert\" onclick=\"convertToInteractive('df-e7e96328-f540-4be8-aaef-d7125d8a3c84')\"\n",
              "            title=\"Convert this dataframe to an interactive table.\"\n",
              "            style=\"display:none;\">\n",
              "\n",
              "  <svg xmlns=\"http://www.w3.org/2000/svg\" height=\"24px\" viewBox=\"0 -960 960 960\">\n",
              "    <path d=\"M120-120v-720h720v720H120Zm60-500h600v-160H180v160Zm220 220h160v-160H400v160Zm0 220h160v-160H400v160ZM180-400h160v-160H180v160Zm440 0h160v-160H620v160ZM180-180h160v-160H180v160Zm440 0h160v-160H620v160Z\"/>\n",
              "  </svg>\n",
              "    </button>\n",
              "\n",
              "  <style>\n",
              "    .colab-df-container {\n",
              "      display:flex;\n",
              "      gap: 12px;\n",
              "    }\n",
              "\n",
              "    .colab-df-convert {\n",
              "      background-color: #E8F0FE;\n",
              "      border: none;\n",
              "      border-radius: 50%;\n",
              "      cursor: pointer;\n",
              "      display: none;\n",
              "      fill: #1967D2;\n",
              "      height: 32px;\n",
              "      padding: 0 0 0 0;\n",
              "      width: 32px;\n",
              "    }\n",
              "\n",
              "    .colab-df-convert:hover {\n",
              "      background-color: #E2EBFA;\n",
              "      box-shadow: 0px 1px 2px rgba(60, 64, 67, 0.3), 0px 1px 3px 1px rgba(60, 64, 67, 0.15);\n",
              "      fill: #174EA6;\n",
              "    }\n",
              "\n",
              "    .colab-df-buttons div {\n",
              "      margin-bottom: 4px;\n",
              "    }\n",
              "\n",
              "    [theme=dark] .colab-df-convert {\n",
              "      background-color: #3B4455;\n",
              "      fill: #D2E3FC;\n",
              "    }\n",
              "\n",
              "    [theme=dark] .colab-df-convert:hover {\n",
              "      background-color: #434B5C;\n",
              "      box-shadow: 0px 1px 3px 1px rgba(0, 0, 0, 0.15);\n",
              "      filter: drop-shadow(0px 1px 2px rgba(0, 0, 0, 0.3));\n",
              "      fill: #FFFFFF;\n",
              "    }\n",
              "  </style>\n",
              "\n",
              "    <script>\n",
              "      const buttonEl =\n",
              "        document.querySelector('#df-e7e96328-f540-4be8-aaef-d7125d8a3c84 button.colab-df-convert');\n",
              "      buttonEl.style.display =\n",
              "        google.colab.kernel.accessAllowed ? 'block' : 'none';\n",
              "\n",
              "      async function convertToInteractive(key) {\n",
              "        const element = document.querySelector('#df-e7e96328-f540-4be8-aaef-d7125d8a3c84');\n",
              "        const dataTable =\n",
              "          await google.colab.kernel.invokeFunction('convertToInteractive',\n",
              "                                                    [key], {});\n",
              "        if (!dataTable) return;\n",
              "\n",
              "        const docLinkHtml = 'Like what you see? Visit the ' +\n",
              "          '<a target=\"_blank\" href=https://colab.research.google.com/notebooks/data_table.ipynb>data table notebook</a>'\n",
              "          + ' to learn more about interactive tables.';\n",
              "        element.innerHTML = '';\n",
              "        dataTable['output_type'] = 'display_data';\n",
              "        await google.colab.output.renderOutput(dataTable, element);\n",
              "        const docLink = document.createElement('div');\n",
              "        docLink.innerHTML = docLinkHtml;\n",
              "        element.appendChild(docLink);\n",
              "      }\n",
              "    </script>\n",
              "  </div>\n",
              "\n",
              "\n",
              "<div id=\"df-3216ddbf-681f-4549-98c2-cbb465740380\">\n",
              "  <button class=\"colab-df-quickchart\" onclick=\"quickchart('df-3216ddbf-681f-4549-98c2-cbb465740380')\"\n",
              "            title=\"Suggest charts.\"\n",
              "            style=\"display:none;\">\n",
              "\n",
              "<svg xmlns=\"http://www.w3.org/2000/svg\" height=\"24px\"viewBox=\"0 0 24 24\"\n",
              "     width=\"24px\">\n",
              "    <g>\n",
              "        <path d=\"M19 3H5c-1.1 0-2 .9-2 2v14c0 1.1.9 2 2 2h14c1.1 0 2-.9 2-2V5c0-1.1-.9-2-2-2zM9 17H7v-7h2v7zm4 0h-2V7h2v10zm4 0h-2v-4h2v4z\"/>\n",
              "    </g>\n",
              "</svg>\n",
              "  </button>\n",
              "\n",
              "<style>\n",
              "  .colab-df-quickchart {\n",
              "      --bg-color: #E8F0FE;\n",
              "      --fill-color: #1967D2;\n",
              "      --hover-bg-color: #E2EBFA;\n",
              "      --hover-fill-color: #174EA6;\n",
              "      --disabled-fill-color: #AAA;\n",
              "      --disabled-bg-color: #DDD;\n",
              "  }\n",
              "\n",
              "  [theme=dark] .colab-df-quickchart {\n",
              "      --bg-color: #3B4455;\n",
              "      --fill-color: #D2E3FC;\n",
              "      --hover-bg-color: #434B5C;\n",
              "      --hover-fill-color: #FFFFFF;\n",
              "      --disabled-bg-color: #3B4455;\n",
              "      --disabled-fill-color: #666;\n",
              "  }\n",
              "\n",
              "  .colab-df-quickchart {\n",
              "    background-color: var(--bg-color);\n",
              "    border: none;\n",
              "    border-radius: 50%;\n",
              "    cursor: pointer;\n",
              "    display: none;\n",
              "    fill: var(--fill-color);\n",
              "    height: 32px;\n",
              "    padding: 0;\n",
              "    width: 32px;\n",
              "  }\n",
              "\n",
              "  .colab-df-quickchart:hover {\n",
              "    background-color: var(--hover-bg-color);\n",
              "    box-shadow: 0 1px 2px rgba(60, 64, 67, 0.3), 0 1px 3px 1px rgba(60, 64, 67, 0.15);\n",
              "    fill: var(--button-hover-fill-color);\n",
              "  }\n",
              "\n",
              "  .colab-df-quickchart-complete:disabled,\n",
              "  .colab-df-quickchart-complete:disabled:hover {\n",
              "    background-color: var(--disabled-bg-color);\n",
              "    fill: var(--disabled-fill-color);\n",
              "    box-shadow: none;\n",
              "  }\n",
              "\n",
              "  .colab-df-spinner {\n",
              "    border: 2px solid var(--fill-color);\n",
              "    border-color: transparent;\n",
              "    border-bottom-color: var(--fill-color);\n",
              "    animation:\n",
              "      spin 1s steps(1) infinite;\n",
              "  }\n",
              "\n",
              "  @keyframes spin {\n",
              "    0% {\n",
              "      border-color: transparent;\n",
              "      border-bottom-color: var(--fill-color);\n",
              "      border-left-color: var(--fill-color);\n",
              "    }\n",
              "    20% {\n",
              "      border-color: transparent;\n",
              "      border-left-color: var(--fill-color);\n",
              "      border-top-color: var(--fill-color);\n",
              "    }\n",
              "    30% {\n",
              "      border-color: transparent;\n",
              "      border-left-color: var(--fill-color);\n",
              "      border-top-color: var(--fill-color);\n",
              "      border-right-color: var(--fill-color);\n",
              "    }\n",
              "    40% {\n",
              "      border-color: transparent;\n",
              "      border-right-color: var(--fill-color);\n",
              "      border-top-color: var(--fill-color);\n",
              "    }\n",
              "    60% {\n",
              "      border-color: transparent;\n",
              "      border-right-color: var(--fill-color);\n",
              "    }\n",
              "    80% {\n",
              "      border-color: transparent;\n",
              "      border-right-color: var(--fill-color);\n",
              "      border-bottom-color: var(--fill-color);\n",
              "    }\n",
              "    90% {\n",
              "      border-color: transparent;\n",
              "      border-bottom-color: var(--fill-color);\n",
              "    }\n",
              "  }\n",
              "</style>\n",
              "\n",
              "  <script>\n",
              "    async function quickchart(key) {\n",
              "      const quickchartButtonEl =\n",
              "        document.querySelector('#' + key + ' button');\n",
              "      quickchartButtonEl.disabled = true;  // To prevent multiple clicks.\n",
              "      quickchartButtonEl.classList.add('colab-df-spinner');\n",
              "      try {\n",
              "        const charts = await google.colab.kernel.invokeFunction(\n",
              "            'suggestCharts', [key], {});\n",
              "      } catch (error) {\n",
              "        console.error('Error during call to suggestCharts:', error);\n",
              "      }\n",
              "      quickchartButtonEl.classList.remove('colab-df-spinner');\n",
              "      quickchartButtonEl.classList.add('colab-df-quickchart-complete');\n",
              "    }\n",
              "    (() => {\n",
              "      let quickchartButtonEl =\n",
              "        document.querySelector('#df-3216ddbf-681f-4549-98c2-cbb465740380 button');\n",
              "      quickchartButtonEl.style.display =\n",
              "        google.colab.kernel.accessAllowed ? 'block' : 'none';\n",
              "    })();\n",
              "  </script>\n",
              "</div>\n",
              "    </div>\n",
              "  </div>\n"
            ]
          },
          "metadata": {},
          "execution_count": 31
        }
      ]
    },
    {
      "cell_type": "markdown",
      "source": [
        "## Train, Test, Validation Split"
      ],
      "metadata": {
        "id": "tn2zMAeVV2hT"
      }
    },
    {
      "cell_type": "code",
      "source": [
        "# Creating train (70%), validation (20%), and test (10%) sets\n",
        "train_b, val_b = model_selection.train_test_split(balanced_df, stratify=balanced_df['fraud'], test_size = 0.2)\n",
        "train_b, test_b = model_selection.train_test_split(train_b, stratify = train_b['fraud'], test_size = 0.125)"
      ],
      "metadata": {
        "id": "Qs2thvxBOv59"
      },
      "execution_count": 32,
      "outputs": []
    },
    {
      "cell_type": "code",
      "source": [
        "train_b['fraud'].describe()"
      ],
      "metadata": {
        "colab": {
          "base_uri": "https://localhost:8080/"
        },
        "id": "araf1MUzPDXN",
        "outputId": "53f1b5f2-3bc3-4c1f-caf5-c9c8c0099330"
      },
      "execution_count": 33,
      "outputs": [
        {
          "output_type": "execute_result",
          "data": {
            "text/plain": [
              "count    122363.000000\n",
              "mean          0.500004\n",
              "std           0.500002\n",
              "min           0.000000\n",
              "25%           0.000000\n",
              "50%           1.000000\n",
              "75%           1.000000\n",
              "max           1.000000\n",
              "Name: fraud, dtype: float64"
            ]
          },
          "metadata": {},
          "execution_count": 33
        }
      ]
    },
    {
      "cell_type": "code",
      "source": [
        "val_b['fraud'].describe()"
      ],
      "metadata": {
        "colab": {
          "base_uri": "https://localhost:8080/"
        },
        "id": "0DiOGGe3PQZV",
        "outputId": "38bc324d-a84f-4283-ba09-dda35361b4d7"
      },
      "execution_count": 34,
      "outputs": [
        {
          "output_type": "execute_result",
          "data": {
            "text/plain": [
              "count    34962.000000\n",
              "mean         0.500000\n",
              "std          0.500007\n",
              "min          0.000000\n",
              "25%          0.000000\n",
              "50%          0.500000\n",
              "75%          1.000000\n",
              "max          1.000000\n",
              "Name: fraud, dtype: float64"
            ]
          },
          "metadata": {},
          "execution_count": 34
        }
      ]
    },
    {
      "cell_type": "code",
      "source": [
        "test_b['fraud'].describe()"
      ],
      "metadata": {
        "colab": {
          "base_uri": "https://localhost:8080/"
        },
        "id": "KyehkvD2PVRF",
        "outputId": "84b777a6-131a-4a59-a387-de923a56cb68"
      },
      "execution_count": 35,
      "outputs": [
        {
          "output_type": "execute_result",
          "data": {
            "text/plain": [
              "count    17481.000000\n",
              "mean         0.499971\n",
              "std          0.500014\n",
              "min          0.000000\n",
              "25%          0.000000\n",
              "50%          0.000000\n",
              "75%          1.000000\n",
              "max          1.000000\n",
              "Name: fraud, dtype: float64"
            ]
          },
          "metadata": {},
          "execution_count": 35
        }
      ]
    },
    {
      "cell_type": "code",
      "source": [
        "train_b_np, test_b_np, val_b_np = train_b.to_numpy().astype(int), test_b.to_numpy().astype(int), val_b.to_numpy().astype(int)\n",
        "train_b_np.shape, test_b_np.shape, val_b_np.shape"
      ],
      "metadata": {
        "colab": {
          "base_uri": "https://localhost:8080/"
        },
        "outputId": "a2dd793d-b9c8-4c40-ef01-79c0a6cffc8f",
        "id": "1_-kRPzYPeLm"
      },
      "execution_count": 36,
      "outputs": [
        {
          "output_type": "execute_result",
          "data": {
            "text/plain": [
              "((122363, 8), (17481, 8), (34962, 8))"
            ]
          },
          "metadata": {},
          "execution_count": 36
        }
      ]
    },
    {
      "cell_type": "code",
      "source": [
        "x_train_b, y_train_b = train_b_np[:, :-1], train_b_np[:, -1]\n",
        "x_test_b, y_test_b = test_b_np[:, :-1], test_b_np[:, -1]\n",
        "x_val_b, y_val_b = val_b_np[:, :-1], val_b_np[:, -1]\n",
        "\n",
        "x_train_b.shape, y_train_b.shape, x_test_b.shape, y_test_b.shape, x_val_b.shape, y_val_b.shape"
      ],
      "metadata": {
        "colab": {
          "base_uri": "https://localhost:8080/"
        },
        "id": "mzL7yfhoPknd",
        "outputId": "73740fe1-4bca-4a11-9bac-85e60828849b"
      },
      "execution_count": 37,
      "outputs": [
        {
          "output_type": "execute_result",
          "data": {
            "text/plain": [
              "((122363, 7), (122363,), (17481, 7), (17481,), (34962, 7), (34962,))"
            ]
          },
          "metadata": {},
          "execution_count": 37
        }
      ]
    },
    {
      "cell_type": "code",
      "source": [
        "pd.Series(y_train_b).value_counts(), pd.Series(y_test_b).value_counts(), pd.Series(y_val_b).value_counts()"
      ],
      "metadata": {
        "colab": {
          "base_uri": "https://localhost:8080/"
        },
        "id": "TP001esqRHtf",
        "outputId": "7e568fab-064c-4d4e-b11f-4438e1781d04"
      },
      "execution_count": 38,
      "outputs": [
        {
          "output_type": "execute_result",
          "data": {
            "text/plain": [
              "(1    61182\n",
              " 0    61181\n",
              " dtype: int64,\n",
              " 0    8741\n",
              " 1    8740\n",
              " dtype: int64,\n",
              " 1    17481\n",
              " 0    17481\n",
              " dtype: int64)"
            ]
          },
          "metadata": {},
          "execution_count": 38
        }
      ]
    },
    {
      "cell_type": "markdown",
      "source": [
        "## Modeling"
      ],
      "metadata": {
        "id": "rb_NT2gTV6zb"
      }
    },
    {
      "cell_type": "markdown",
      "source": [
        "### Logistic Regression"
      ],
      "metadata": {
        "id": "S3bbjV5zV8jL"
      }
    },
    {
      "cell_type": "code",
      "source": [
        "logistic_model_b = LogisticRegression()\n",
        "logistic_model_b.fit(x_train_b, y_train_b)\n",
        "print(classification_report(y_val_b, logistic_model_b.predict(x_val_b), target_names=['Not Fraud', 'Fraud']))"
      ],
      "metadata": {
        "colab": {
          "base_uri": "https://localhost:8080/"
        },
        "id": "KHZFXNTkR-hH",
        "outputId": "90bd4e5d-5a2a-4a7d-a8a1-1956163eeb2e"
      },
      "execution_count": 39,
      "outputs": [
        {
          "output_type": "stream",
          "name": "stdout",
          "text": [
            "              precision    recall  f1-score   support\n",
            "\n",
            "   Not Fraud       0.96      0.94      0.95     17481\n",
            "       Fraud       0.94      0.96      0.95     17481\n",
            "\n",
            "    accuracy                           0.95     34962\n",
            "   macro avg       0.95      0.95      0.95     34962\n",
            "weighted avg       0.95      0.95      0.95     34962\n",
            "\n"
          ]
        }
      ]
    },
    {
      "cell_type": "markdown",
      "source": [
        "### Shallow neural network"
      ],
      "metadata": {
        "id": "bedHiM-1WLEr"
      }
    },
    {
      "cell_type": "code",
      "source": [
        "shallow_nn_b = Sequential()\n",
        "shallow_nn_b.add(InputLayer((x_train_b.shape[1], )))\n",
        "shallow_nn_b.add(Dense(2, 'relu'))\n",
        "shallow_nn_b.add(BatchNormalization())\n",
        "shallow_nn_b.add(Dense(1, 'sigmoid'))\n",
        "\n",
        "checkpoint = ModelCheckpoint('shallow_nn_b', save_best_only = True)\n",
        "shallow_nn_b.compile(optimizer='adam', loss = 'binary_crossentropy', metrics = ['accuracy'])\n",
        "shallow_nn_b.fit(x_train_b, y_train_b, validation_data = (x_val_b, y_val_b), epochs=20, callbacks=checkpoint)"
      ],
      "metadata": {
        "colab": {
          "base_uri": "https://localhost:8080/"
        },
        "id": "P140eYJOWN-T",
        "outputId": "a9eab0f7-e2ac-45f9-b758-480914d3ac6d"
      },
      "execution_count": 41,
      "outputs": [
        {
          "output_type": "stream",
          "name": "stdout",
          "text": [
            "Epoch 1/20\n",
            "3824/3824 [==============================] - 17s 3ms/step - loss: 0.3136 - accuracy: 0.8961 - val_loss: 0.2053 - val_accuracy: 0.9508\n",
            "Epoch 2/20\n",
            "3824/3824 [==============================] - 16s 4ms/step - loss: 0.2116 - accuracy: 0.9328 - val_loss: 0.1711 - val_accuracy: 0.9429\n",
            "Epoch 3/20\n",
            "3824/3824 [==============================] - 13s 3ms/step - loss: 0.2002 - accuracy: 0.9340 - val_loss: 0.1628 - val_accuracy: 0.9435\n",
            "Epoch 4/20\n",
            "3824/3824 [==============================] - 11s 3ms/step - loss: 0.1993 - accuracy: 0.9342 - val_loss: 0.1666 - val_accuracy: 0.9409\n",
            "Epoch 5/20\n",
            "3824/3824 [==============================] - 12s 3ms/step - loss: 0.1990 - accuracy: 0.9338 - val_loss: 0.1550 - val_accuracy: 0.9442\n",
            "Epoch 6/20\n",
            "3824/3824 [==============================] - 12s 3ms/step - loss: 0.1976 - accuracy: 0.9335 - val_loss: 0.1550 - val_accuracy: 0.9588\n",
            "Epoch 7/20\n",
            "3824/3824 [==============================] - 12s 3ms/step - loss: 0.1981 - accuracy: 0.9347 - val_loss: 0.1544 - val_accuracy: 0.9442\n",
            "Epoch 8/20\n",
            "3824/3824 [==============================] - 10s 3ms/step - loss: 0.1958 - accuracy: 0.9346 - val_loss: 0.1575 - val_accuracy: 0.9425\n",
            "Epoch 9/20\n",
            "3824/3824 [==============================] - 11s 3ms/step - loss: 0.1978 - accuracy: 0.9338 - val_loss: 0.1771 - val_accuracy: 0.9406\n",
            "Epoch 10/20\n",
            "3824/3824 [==============================] - 13s 3ms/step - loss: 0.1982 - accuracy: 0.9337 - val_loss: 0.1528 - val_accuracy: 0.9441\n",
            "Epoch 11/20\n",
            "3824/3824 [==============================] - 13s 3ms/step - loss: 0.1969 - accuracy: 0.9341 - val_loss: 0.1497 - val_accuracy: 0.9436\n",
            "Epoch 12/20\n",
            "3824/3824 [==============================] - 11s 3ms/step - loss: 0.1986 - accuracy: 0.9338 - val_loss: 0.1548 - val_accuracy: 0.9458\n",
            "Epoch 13/20\n",
            "3824/3824 [==============================] - 11s 3ms/step - loss: 0.1960 - accuracy: 0.9347 - val_loss: 0.1560 - val_accuracy: 0.9600\n",
            "Epoch 14/20\n",
            "3824/3824 [==============================] - 12s 3ms/step - loss: 0.1965 - accuracy: 0.9346 - val_loss: 0.1501 - val_accuracy: 0.9447\n",
            "Epoch 15/20\n",
            "3824/3824 [==============================] - 12s 3ms/step - loss: 0.1943 - accuracy: 0.9343 - val_loss: 0.1563 - val_accuracy: 0.9617\n",
            "Epoch 16/20\n",
            "3824/3824 [==============================] - 11s 3ms/step - loss: 0.1994 - accuracy: 0.9330 - val_loss: 0.1583 - val_accuracy: 0.9448\n",
            "Epoch 17/20\n",
            "3824/3824 [==============================] - 11s 3ms/step - loss: 0.1969 - accuracy: 0.9343 - val_loss: 0.1571 - val_accuracy: 0.9452\n",
            "Epoch 18/20\n",
            "3824/3824 [==============================] - 11s 3ms/step - loss: 0.1966 - accuracy: 0.9339 - val_loss: 0.1593 - val_accuracy: 0.9417\n",
            "Epoch 19/20\n",
            "3824/3824 [==============================] - 12s 3ms/step - loss: 0.2003 - accuracy: 0.9333 - val_loss: 0.1545 - val_accuracy: 0.9594\n",
            "Epoch 20/20\n",
            "3824/3824 [==============================] - 12s 3ms/step - loss: 0.1959 - accuracy: 0.9344 - val_loss: 0.1598 - val_accuracy: 0.9423\n"
          ]
        },
        {
          "output_type": "execute_result",
          "data": {
            "text/plain": [
              "<keras.src.callbacks.History at 0x7f8334c6c0d0>"
            ]
          },
          "metadata": {},
          "execution_count": 41
        }
      ]
    },
    {
      "cell_type": "code",
      "source": [
        "print(classification_report(y_val_b, neural_net_predictions(shallow_nn_b, x_val_b), target_names = ['Not Fraud','Fraud']))"
      ],
      "metadata": {
        "colab": {
          "base_uri": "https://localhost:8080/"
        },
        "id": "mAZ3ZSzaW-zk",
        "outputId": "78e2065e-e8c0-46b8-d8ab-ff86239a2607"
      },
      "execution_count": 42,
      "outputs": [
        {
          "output_type": "stream",
          "name": "stdout",
          "text": [
            "1093/1093 [==============================] - 2s 2ms/step\n",
            "              precision    recall  f1-score   support\n",
            "\n",
            "   Not Fraud       0.59      1.00      0.74     17481\n",
            "       Fraud       0.99      0.32      0.48     17481\n",
            "\n",
            "    accuracy                           0.66     34962\n",
            "   macro avg       0.79      0.66      0.61     34962\n",
            "weighted avg       0.79      0.66      0.61     34962\n",
            "\n"
          ]
        }
      ]
    },
    {
      "cell_type": "markdown",
      "source": [
        "### Random forest"
      ],
      "metadata": {
        "id": "HQoIUWH6Ye27"
      }
    },
    {
      "cell_type": "code",
      "source": [
        "rf_b = RandomForestClassifier(max_depth=2, n_jobs=-1)\n",
        "rf_b.fit(x_train_b, y_train_b)\n",
        "print(classification_report(y_val_b, rf_b.predict(x_val_b), target_names=['Not Fraud', 'Fraud']))"
      ],
      "metadata": {
        "colab": {
          "base_uri": "https://localhost:8080/"
        },
        "id": "eMnTXs2aYiMx",
        "outputId": "00e6920d-9155-48cc-88de-2387c2cd35b4"
      },
      "execution_count": 43,
      "outputs": [
        {
          "output_type": "stream",
          "name": "stdout",
          "text": [
            "              precision    recall  f1-score   support\n",
            "\n",
            "   Not Fraud       0.89      0.96      0.92     17481\n",
            "       Fraud       0.95      0.88      0.92     17481\n",
            "\n",
            "    accuracy                           0.92     34962\n",
            "   macro avg       0.92      0.92      0.92     34962\n",
            "weighted avg       0.92      0.92      0.92     34962\n",
            "\n"
          ]
        }
      ]
    },
    {
      "cell_type": "markdown",
      "source": [
        "### Gradient Boosting Classifier"
      ],
      "metadata": {
        "id": "59l9_cxDY4fb"
      }
    },
    {
      "cell_type": "code",
      "source": [
        "gbc_b = GradientBoostingClassifier(n_estimators = 100, learning_rate = 1.0, max_depth=2 , random_state=0)\n",
        "\n",
        "gbc_b.fit(x_train_b, y_train_b)\n",
        "print(classification_report(y_val_b, gbc_b.predict(x_val_b), target_names=['Not Fraud', 'Fraud']))"
      ],
      "metadata": {
        "colab": {
          "base_uri": "https://localhost:8080/"
        },
        "id": "j1tYTDagY7EU",
        "outputId": "02ed1c82-4b36-407e-8bd4-e3f36d5366e9"
      },
      "execution_count": 44,
      "outputs": [
        {
          "output_type": "stream",
          "name": "stdout",
          "text": [
            "              precision    recall  f1-score   support\n",
            "\n",
            "   Not Fraud       0.98      0.96      0.97     17481\n",
            "       Fraud       0.96      0.98      0.97     17481\n",
            "\n",
            "    accuracy                           0.97     34962\n",
            "   macro avg       0.97      0.97      0.97     34962\n",
            "weighted avg       0.97      0.97      0.97     34962\n",
            "\n"
          ]
        }
      ]
    },
    {
      "cell_type": "markdown",
      "source": [
        "### Support Vector Machine Classifier"
      ],
      "metadata": {
        "id": "gowl00ZXZ9KO"
      }
    },
    {
      "cell_type": "code",
      "source": [
        "svc_b = LinearSVC(class_weight = 'balanced')\n",
        "svc_b.fit(x_train_b, y_train_b)\n",
        "print(classification_report(y_val_b, svc_b.predict(x_val_b), target_names=['Not Fraud', 'Fraud']))"
      ],
      "metadata": {
        "colab": {
          "base_uri": "https://localhost:8080/"
        },
        "id": "hJj_SffjaAFR",
        "outputId": "b349a711-cb14-4cdf-d43f-957372a792d1"
      },
      "execution_count": 45,
      "outputs": [
        {
          "output_type": "stream",
          "name": "stdout",
          "text": [
            "              precision    recall  f1-score   support\n",
            "\n",
            "   Not Fraud       0.94      0.95      0.95     17481\n",
            "       Fraud       0.95      0.94      0.95     17481\n",
            "\n",
            "    accuracy                           0.95     34962\n",
            "   macro avg       0.95      0.95      0.95     34962\n",
            "weighted avg       0.95      0.95      0.95     34962\n",
            "\n"
          ]
        },
        {
          "output_type": "stream",
          "name": "stderr",
          "text": [
            "/usr/local/lib/python3.10/dist-packages/sklearn/svm/_base.py:1244: ConvergenceWarning: Liblinear failed to converge, increase the number of iterations.\n",
            "  warnings.warn(\n"
          ]
        }
      ]
    },
    {
      "cell_type": "markdown",
      "source": [
        "###Model scores\n",
        "(Precision, recall, F1-score, support)\n",
        "\n",
        "**GBC**\n",
        "\n",
        "    Not Fraud       0.98      0.96      0.97     17481\n",
        "           Fraud       0.96      0.98      0.97     17481\n",
        "\n",
        "**Logistic Regression**\n",
        "\n",
        "    Not Fraud       0.96      0.94      0.95     17481\n",
        "           Fraud       0.94      0.96      0.95     17481\n",
        "\n",
        "\n",
        "**Linear SVM**\n",
        "\n",
        "    Not Fraud       0.94      0.95      0.95     17481\n",
        "           Fraud       0.95      0.94      0.95     17481\n",
        "\n",
        "**Random Forest**\n",
        "\n",
        "    Not Fraud       0.89      0.96      0.92     17481\n",
        "           Fraud       0.95      0.88      0.92     17481\n",
        "\n",
        "**Shallow nn**\n",
        "\n",
        "    Not Fraud       0.59      1.00      0.74     17481\n",
        "           Fraud       0.99      0.32      0.48     17481"
      ],
      "metadata": {
        "id": "25BPd3KISUiV"
      }
    },
    {
      "cell_type": "markdown",
      "source": [
        "# Test"
      ],
      "metadata": {
        "id": "yK5lQEzLa4ra"
      }
    },
    {
      "cell_type": "code",
      "source": [
        "print(classification_report(y_test_b, svc_b.predict(x_test_b), target_names=['Not Fraud', 'Fraud']))"
      ],
      "metadata": {
        "colab": {
          "base_uri": "https://localhost:8080/"
        },
        "id": "A8enG3rcaqfK",
        "outputId": "de3ead66-440d-468f-ecef-4b86c2d9bc0d"
      },
      "execution_count": 46,
      "outputs": [
        {
          "output_type": "stream",
          "name": "stdout",
          "text": [
            "              precision    recall  f1-score   support\n",
            "\n",
            "   Not Fraud       0.94      0.96      0.95      8741\n",
            "       Fraud       0.96      0.93      0.94      8740\n",
            "\n",
            "    accuracy                           0.95     17481\n",
            "   macro avg       0.95      0.95      0.95     17481\n",
            "weighted avg       0.95      0.95      0.95     17481\n",
            "\n"
          ]
        }
      ]
    },
    {
      "cell_type": "markdown",
      "source": [
        "## Score\n",
        "Using the gbc model from the balanced dataset\n",
        "\n",
        "    Not Fraud       0.94      0.96      0.95      8741\n",
        "           Fraud       0.96      0.93      0.94      8740\n",
        "\n",
        "The model performed with around 90% accuracy."
      ],
      "metadata": {
        "id": "YXvTlWNRa8Hj"
      }
    }
  ]
}